{
 "cells": [
  {
   "cell_type": "code",
   "execution_count": null,
   "metadata": {},
   "outputs": [],
   "source": [
    "#importing libraries\n",
    "\n",
    "import random as rd\n",
    "import hashlib\n",
    "import phe\n",
    "import rsa\n",
    "import matplotlib.pyplot as plt\n",
    "import numpy as np\n",
    "from timeit import default_timer as timer"
   ]
  },
  {
   "cell_type": "code",
   "execution_count": null,
   "metadata": {},
   "outputs": [],
   "source": [
    "#declaring of varibles\n",
    "numberOfExperts = 0\n",
    "numberOfCandidates = 0\n",
    "keySize = 0\n",
    "#collection of homomophic public and private keys\n",
    "dictionaryOfExpertPublicKeys = {}\n",
    "dictionaryOfExpertPrivateKeys = {}\n",
    "\n",
    "dictionaryOfCandidatesPublicKeys = {}\n",
    "dictionaryOfCandidatesPrivateKeys = {}\n",
    "\n",
    "#Variables for third and 4th framework@\n",
    "dictionaryOfRandomNumberPerExpert = {}\n",
    "dictionaryOftheSumOfRandomNumbermappedToEveryCandidate = {}\n",
    "dictionaryOfRandomNumberGatheredFromOtherExperts = {}\n",
    "dictionaryOfRandomNumberMappedToEveryCandidate = {}\n",
    "publicKeyEmployer,privateKeyEmployer = 0,0\n",
    "\n",
    "#Collection of rsa public and private keys for digital signature\n",
    "dictOfrsaPubKey = {}\n",
    "dictOfrsaPriKey = {}\n",
    "marksToCandidates = []"
   ]
  },
  {
   "cell_type": "code",
   "execution_count": null,
   "metadata": {},
   "outputs": [],
   "source": [
    "def initVariables(E,C, key):\n",
    "    global numberOfExperts, numberOfCandidates, keySize\n",
    "    numberOfExperts, numberOfCandidates ,keySize= E, C , key"
   ]
  },
  {
   "cell_type": "code",
   "execution_count": null,
   "metadata": {},
   "outputs": [],
   "source": [
    "#this part of the code create the public and private homomorphic key pairs\n",
    "#this part of the code create the public and private homomorphic key pairs\n",
    "def generateHomomorphickeyPairs():\n",
    "    global publicKeyEmployer,privateKeyEmployer\n",
    "    publicKeyEmployer,privateKeyEmployer = phe.generate_paillier_keypair(n_length=keySize)\n",
    "    for i in range(numberOfExperts):\n",
    "        x,y = phe.generate_paillier_keypair(n_length=keySize)\n",
    "        dictionaryOfExpertPublicKeys[i] = x\n",
    "        dictionaryOfExpertPrivateKeys[i] = y\n",
    "        \n",
    "    for i in range(numberOfCandidates):\n",
    "        x,y = phe.generate_paillier_keypair(n_length=keySize)\n",
    "        dictionaryOfCandidatesPublicKeys[i]= x\n",
    "        dictionaryOfCandidatesPrivateKeys[i] = y \n",
    "\n"
   ]
  },
  {
   "cell_type": "code",
   "execution_count": null,
   "metadata": {},
   "outputs": [],
   "source": [
    "#code to generate rsa public and private keys\n",
    "def generateRSAKeys():\n",
    "    global dictOfrsaPubKey, dicOfrsaPriKey\n",
    "    for i in range(numberOfExperts):\n",
    "        (pubkey, privkey) = rsa.newkeys(512)\n",
    "        dictOfrsaPubKey[i],dictOfrsaPriKey[i] = pubkey, privkey "
   ]
  },
  {
   "cell_type": "code",
   "execution_count": null,
   "metadata": {},
   "outputs": [],
   "source": [
    "# function to create digital signature\n",
    "def createDigitalSignature(message,i):\n",
    "    privkey = dictOfrsaPriKey[i]\n",
    "    temp = str(message).encode()\n",
    "    signature = rsa.sign(temp, privkey, 'SHA-1')\n",
    "    return signature"
   ]
  },
  {
   "cell_type": "code",
   "execution_count": null,
   "metadata": {},
   "outputs": [],
   "source": [
    "def generateRandomNumberForEveryExpert():\n",
    "    # global dictionaryOfRandomNumberPerExpert\n",
    "    generatedRandomNumbers = [rd.randint(0,100) for x in range(numberOfExperts)]\n",
    "    # print(generatedRandomNumbers)\n",
    "    return generatedRandomNumbers\n",
    "    # print(dictionaryOfSumGeneratedPerRandomNumber)"
   ]
  },
  {
   "cell_type": "code",
   "execution_count": null,
   "metadata": {},
   "outputs": [],
   "source": [
    "def forwardTheRespectiveRandomNumbers(idR,generatedRandomNumbers):\n",
    "    encryptedRandomNumber = dictionaryOfExpertPublicKeys[idR].raw_encrypt(generatedRandomNumbers[idR])\n",
    "    message = encryptedRandomNumber\n",
    "    return message\n",
    "# ,createDigitalSignature(encryptedRandomNumber,idS)"
   ]
  },
  {
   "cell_type": "code",
   "execution_count": null,
   "metadata": {},
   "outputs": [],
   "source": [
    "def performSMPCBetweenExperts():\n",
    "    #this part of the code simulates the part where expert follow the smpc process\n",
    "    #the random number assgned by all the experts has been mapped for every candidate\n",
    "    \n",
    "    for i in range(numberOfCandidates):\n",
    "        matrixOfForwardedMessages = [[0 for i in range(numberOfExperts)] for j in range(numberOfExperts)]\n",
    "        sumList = []\n",
    "        for j in range(numberOfExperts):\n",
    "            generatedRandomNumbers = generateRandomNumberForEveryExpert()\n",
    "            sumOfTheRandomNumbers = sum(generatedRandomNumbers) \n",
    "            sumList.append(sumOfTheRandomNumbers)\n",
    "\n",
    "            for k in range(numberOfExperts):\n",
    "                if(j != k):\n",
    "                    message = forwardTheRespectiveRandomNumbers(k,generatedRandomNumbers)\n",
    "                    matrixOfForwardedMessages[j][k] = message\n",
    "                else:\n",
    "                    matrixOfForwardedMessages[j][k] = generatedRandomNumbers[j]\n",
    "        dictionaryOfRandomNumberMappedToEveryCandidate[i] = matrixOfForwardedMessages\n",
    "        dictionaryOftheSumOfRandomNumbermappedToEveryCandidate[i] = sumList\n",
    "    # print(dictionaryOfRandomNumberMappedToEveryCandidate)\n",
    "    # print(dictionaryOftheSumOfRandomNumbermappedToEveryCandidate)\n",
    "    # print(dictionaryOfSumGeneratedPerRandomNumber)\n",
    "    \n",
    "\n",
    "    "
   ]
  },
  {
   "cell_type": "code",
   "execution_count": null,
   "metadata": {},
   "outputs": [],
   "source": [
    "def generateHiddenScoreFrameWork4():\n",
    "    global marksToCandidates\n",
    "    marksToCandidates = [[0 for i in range(numberOfCandidates)] for j in range(numberOfExperts)]\n",
    "    for i in range(numberOfCandidates):\n",
    "        for j in range(numberOfExperts):\n",
    "            mark = rd.randint(0,10)\n",
    "            hiddenScore = mark + dictionaryOftheSumOfRandomNumbermappedToEveryCandidate[i][j]\n",
    "            sum  = 0\n",
    "            for k in range(numberOfExperts):\n",
    "                if(j != k):\n",
    "                    encryptedRandomNumber = dictionaryOfRandomNumberMappedToEveryCandidate[i][k][j]\n",
    "                    # print(encryptedRandomNumber)\n",
    "                    sum  = sum + dictionaryOfExpertPrivateKeys[j].raw_decrypt(encryptedRandomNumber)\n",
    "                else: \n",
    "                    sum = sum + dictionaryOfRandomNumberMappedToEveryCandidate[i][j][j]\n",
    "            hiddenScore  = hiddenScore -sum\n",
    "            # print(hiddenScore)\n",
    "            marksToCandidates[j][i] = [publicKeyEmployer.raw_encrypt(hiddenScore),createDigitalSignature(publicKeyEmployer.raw_encrypt(hiddenScore),j)]"
   ]
  },
  {
   "cell_type": "code",
   "execution_count": null,
   "metadata": {},
   "outputs": [],
   "source": [
    "def candidateManagerFrameWork4BestCandidate():\n",
    "    array = []\n",
    "    for i in range(numberOfCandidates):\n",
    "        sum = 1\n",
    "        for j in range(numberOfExperts):\n",
    "            cummulativeScore = marksToCandidates[j][i][0]\n",
    "            sum  = sum * cummulativeScore\n",
    "        array.append(sum)\n",
    "    return array\n"
   ]
  },
  {
   "cell_type": "code",
   "execution_count": null,
   "metadata": {},
   "outputs": [],
   "source": [
    "def employerFindsTheBestCandidate(array):\n",
    "    marksOfCandidates = [privateKeyEmployer.raw_decrypt(x) for x in array]\n",
    "    # print(marksOfCandidates)\n",
    "    # print(marksOfCandidates.index(max(marksOfCandidates)))\n"
   ]
  },
  {
   "cell_type": "code",
   "execution_count": null,
   "metadata": {},
   "outputs": [],
   "source": [
    "def expertFunctionToGiveMarks():\n",
    "    start = timer()\n",
    "    performSMPCBetweenExperts()\n",
    "    generateHiddenScoreFrameWork4()\n",
    "    end = timer()\n",
    "    return end - start\n"
   ]
  },
  {
   "cell_type": "code",
   "execution_count": null,
   "metadata": {},
   "outputs": [],
   "source": [
    "# def plotGraph(a,b):\n",
    "#     plt.plot(a,b,marker = \"*\")\n",
    "#     plt.xlabel(\"numberOfcandidates\")\n",
    "#     plt.ylabel(\"time Consumed\")\n",
    "#     plt.show()"
   ]
  },
  {
   "cell_type": "code",
   "execution_count": null,
   "metadata": {},
   "outputs": [],
   "source": [
    "def runSimulation(experts,candidates,flag,keySize):\n",
    "    experts = experts\n",
    "    timeList = []\n",
    "    candidates = candidates\n",
    "    totalTime = 0\n",
    "    if flag == \"candidates\":\n",
    "        for i in range(len(candidates)):\n",
    "            start = timer()\n",
    "            initVariables(experts,candidates[i],keySize)\n",
    "            generateHomomorphickeyPairs()\n",
    "            generateRSAKeys()\n",
    "            end = timer()\n",
    "            t1 = end - start\n",
    "            t2 = expertFunctionToGiveMarks()\n",
    "            start = timer()\n",
    "            array = candidateManagerFrameWork4BestCandidate()\n",
    "            employerFindsTheBestCandidate(array)\n",
    "            end = timer()\n",
    "            t3 = end - start\n",
    "            totalTime = t1 + (t2/experts) + t3\n",
    "            timeList.append(totalTime)\n",
    "    else: \n",
    "        for i in range(len(experts)):\n",
    "            start = timer()\n",
    "            initVariables(experts[i],candidates,keySize)\n",
    "            generateHomomorphickeyPairs()\n",
    "            generateRSAKeys()\n",
    "            end = timer()\n",
    "            t1 =end -start\n",
    "            t2 = expertFunctionToGiveMarks()\n",
    "            start = timer()\n",
    "            array = candidateManagerFrameWork4BestCandidate()\n",
    "            employerFindsTheBestCandidate(array)\n",
    "            end = timer()\n",
    "            t3 = end - start\n",
    "            totalTime = t1 + (t2/ experts[i]) + t3\n",
    "            timeList.append(totalTime)\n",
    "    # print(timeList)\n",
    "    return (timeList)"
   ]
  },
  {
   "cell_type": "code",
   "execution_count": null,
   "metadata": {},
   "outputs": [],
   "source": [
    "#this part of the code run the simulation for defined number of times and helps us to calcuate average execution time\n",
    "def averageTimeConsumedFunction(experts, candidates,flag,keySize):\n",
    "    timeMatrix = []\n",
    "    for i in range(0,80):\n",
    "        timeList= runSimulation(experts, candidates,flag,keySize)\n",
    "        timeMatrix.append(timeList)\n",
    "    # print(timeMatrix)        \n",
    "    arr = np.array(timeMatrix, dtype='float32')\n",
    "    # print(arr)\n",
    "    columns_average = arr.mean(axis=0)\n",
    "\n",
    "    if flag == \"candidates\":\n",
    "        plt.title(\"Number of experts \" + str(experts) + \" and key size of \" + str(keySize))\n",
    "        plt.xlabel(\"Number Of Candidates\")\n",
    "        plt.ylabel(\"Average Execution Time(seconds)\")   \n",
    "        plt.bar(candidates, columns_average)\n",
    "        plt.show()\n",
    "        print(columns_average)\n",
    "    else :\n",
    "        plt.title(\"Number of candidates = \" + str(candidates) + \" and key size of \" + str(keySize))\n",
    "        plt.xlabel(\"Number Of Experts\")\n",
    "        plt.ylabel(\"Average Execution Time(seconds)\")   \n",
    "        plt.bar(experts, columns_average)\n",
    "        plt.show()\n",
    "        print(columns_average)\n",
    "        \n",
    "    return columns_average\n"
   ]
  },
  {
   "cell_type": "code",
   "execution_count": null,
   "metadata": {},
   "outputs": [],
   "source": [
    "def simulationHavingExpertsConstCandidatesVariable(experts, candidates,flag,keySize):\n",
    "    column_average = averageTimeConsumedFunction(experts,candidates,flag,keySize)\n",
    "    return column_average\n",
    "\n",
    "    "
   ]
  },
  {
   "cell_type": "code",
   "execution_count": null,
   "metadata": {},
   "outputs": [],
   "source": [
    "def simulationHavingExpertsvariableCandidatesConst(experts,candidates,flag,keySize):\n",
    "    column_average = averageTimeConsumedFunction(experts,candidates,flag,keySize)\n",
    "    return column_average"
   ]
  },
  {
   "cell_type": "code",
   "execution_count": null,
   "metadata": {},
   "outputs": [],
   "source": [
    "keys = [128,256,512]\n",
    "F4Time = []\n",
    "for i in range(0,3):\n",
    "    time = simulationHavingExpertsvariableCandidatesConst([2,4,6,8,10],20,\"experts\",keys[i])\n",
    "    F4Time.append(time)\n",
    "%store F4Time"
   ]
  },
  {
   "cell_type": "code",
   "execution_count": null,
   "metadata": {},
   "outputs": [],
   "source": [
    "keys = [128,256,512]\n",
    "F4TimeCandidateVariable = []\n",
    "for i in range(0,3):\n",
    "    time = simulationHavingExpertsConstCandidatesVariable(5,[10,20,30,40,50],\"candidates\",keys[i])\n",
    "    F4TimeCandidateVariable.append(time)\n",
    "%store F4TimeCandidateVariable"
   ]
  }
 ],
 "metadata": {
  "kernelspec": {
   "display_name": "Python 3",
   "language": "python",
   "name": "python3"
  },
  "language_info": {
   "codemirror_mode": {
    "name": "ipython",
    "version": 3
   },
   "file_extension": ".py",
   "mimetype": "text/x-python",
   "name": "python",
   "nbconvert_exporter": "python",
   "pygments_lexer": "ipython3",
   "version": "3.12.0"
  },
  "orig_nbformat": 4
 },
 "nbformat": 4,
 "nbformat_minor": 2
}
