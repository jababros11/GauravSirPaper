{
 "cells": [
  {
   "cell_type": "code",
   "execution_count": 960,
   "metadata": {},
   "outputs": [],
   "source": [
    "#importing libraries\n",
    "\n",
    "import random as rd\n",
    "import hashlib\n",
    "import phe\n",
    "import rsa"
   ]
  },
  {
   "cell_type": "code",
   "execution_count": 961,
   "metadata": {},
   "outputs": [],
   "source": [
    "#declaring of varibles\n",
    "numberOfExperts = 3\n",
    "numberOfCandidates = 5\n",
    "#collection of homomophic public and private keys\n",
    "dictionaryOfExpertPublicKeys = {}\n",
    "dictionaryOfExpertPrivateKeys = {}\n",
    "\n",
    "dictionaryOfCandidatesPublicKeys = {}\n",
    "dictionaryOfCandidatesPrivateKeys = {}\n",
    "\n",
    "#Variables for third framework@\n",
    "dictionaryOfRandomNumberPerExpert = {}\n",
    "dictionaryOftheSumOfRandomNumbermappedToEveryCandidate = {}\n",
    "dictionaryOfRandomNumberGatheredFromOtherExperts = {}\n",
    "dictionaryOfRandomNumberMappedToEveryCandidate = {}\n",
    "\n",
    "#Collection of rsa public and private keys for digital signature\n",
    "dictOfrsaPubKey = {}\n",
    "dictOfrsaPriKey = {}\n",
    "marksToCandidates = [[0 for i in range(numberOfCandidates)] for j in range(numberOfExperts)]\n"
   ]
  },
  {
   "cell_type": "code",
   "execution_count": 962,
   "metadata": {},
   "outputs": [],
   "source": [
    "#this part of the code create the public and private homomorphic key pairs\n",
    "\n",
    "for i in range(numberOfExperts):\n",
    "    x,y = phe.generate_paillier_keypair(n_length=128)\n",
    "    dictionaryOfExpertPublicKeys[i] = x\n",
    "    dictionaryOfExpertPrivateKeys[i] = y\n",
    "    \n",
    "\n",
    "for i in range(numberOfCandidates):\n",
    "    x,y = phe.generate_paillier_keypair(n_length=128)\n",
    "    dictionaryOfCandidatesPublicKeys[i]= x\n",
    "    dictionaryOfCandidatesPrivateKeys[i] = y \n",
    "\n",
    "publicKeyEmployer,privateKeyEmployer = phe.generate_paillier_keypair(n_length=128)\n"
   ]
  },
  {
   "cell_type": "code",
   "execution_count": 963,
   "metadata": {},
   "outputs": [],
   "source": [
    "#@code to generate rsa public and private keys\n",
    "for i in range(numberOfExperts):\n",
    "    (pubkey, privkey) = rsa.newkeys(512)\n",
    "    dictOfrsaPubKey[i],dictOfrsaPriKey[i] = pubkey, privkey \n"
   ]
  },
  {
   "cell_type": "code",
   "execution_count": 964,
   "metadata": {},
   "outputs": [],
   "source": [
    "# function to create digital signature\n",
    "def createDigitalSignature(message,i):\n",
    "    privkey = dictOfrsaPriKey[i]\n",
    "    temp = str(message).encode()\n",
    "    signature = rsa.sign(temp, privkey, 'SHA-1')\n",
    "    return signature"
   ]
  },
  {
   "cell_type": "code",
   "execution_count": 965,
   "metadata": {},
   "outputs": [],
   "source": [
    "#this part of the code finds the highest marks gaining candidate id this acts as the candidate manager for the first frame work\n",
    "def candidateManagerFrameWork1BestCandidate():\n",
    "    array  = []\n",
    "    for i in range(len(marksToCandidates[0])):\n",
    "        sum = 0\n",
    "        for j in range(len(marksToCandidates)):\n",
    "            sum = sum + marksToCandidates[j][i][0]\n",
    "        print(sum)\n",
    "        array.append(sum)\n",
    "        \n",
    "    print(\"hihgest marks gaining candidate =\",array.index( max(array)))    \n"
   ]
  },
  {
   "cell_type": "code",
   "execution_count": 966,
   "metadata": {
    "tags": [
     "parameters"
    ]
   },
   "outputs": [],
   "source": [
    "#this part of the code defines the first frame work\n",
    "def framreWork1():\n",
    "    global marksToCandidates\n",
    "    for i in range(numberOfExperts):\n",
    "        for j in range(numberOfCandidates):\n",
    "            mark = rd.randint(0,10)\n",
    "            marksToCandidates[i][j] = [mark,createDigitalSignature(mark,i)]\n",
    "    candidateManagerFrameWork1BestCandidate()"
   ]
  },
  {
   "cell_type": "code",
   "execution_count": 967,
   "metadata": {},
   "outputs": [],
   "source": [
    "# framreWork1()\n",
    "# print(marksToCandidates)"
   ]
  },
  {
   "cell_type": "code",
   "execution_count": 968,
   "metadata": {},
   "outputs": [],
   "source": [
    "# tjhis part of the code works as the employer of the seconde frame work who finds the est candidate\n",
    "def employerFindingBestCandidate(array):\n",
    "    array = [privateKeyEmployer.raw_decrypt(x) for x in array]\n",
    "    print(array.index(max(array)))\n",
    "    print(array)"
   ]
  },
  {
   "cell_type": "code",
   "execution_count": 969,
   "metadata": {},
   "outputs": [],
   "source": [
    "# this part of the code works as the candidate manager who adds the marks by multiplication of the encrytpion and than passes them to the employer\n",
    "def candidateManagerFrameWork2BestCandidate():\n",
    "    array  = []\n",
    "    for i in range(len(marksToCandidates[0])):\n",
    "        sum = 1\n",
    "        for j in range(len(marksToCandidates)):\n",
    "            sum = sum * marksToCandidates[j][i][0]\n",
    "        array.append(sum)\n",
    "    employerFindingBestCandidate(array)\n",
    "    "
   ]
  },
  {
   "cell_type": "code",
   "execution_count": 970,
   "metadata": {},
   "outputs": [],
   "source": [
    "def frameWork2():\n",
    "    global marksToCandidates\n",
    "    #this part of code simulates the expert giving marks to the candidates and storing them in form of matrix\n",
    "    for i in range(numberOfExperts):\n",
    "        for j in range(numberOfCandidates):\n",
    "            mark = rd.randint(0,10)\n",
    "            encryptedMark = publicKeyEmployer.raw_encrypt(mark)\n",
    "            marksToCandidates[i][j] = [encryptedMark,createDigitalSignature(mark,i)]\n",
    "    candidateManagerFrameWork2BestCandidate()\n",
    "    "
   ]
  },
  {
   "cell_type": "code",
   "execution_count": 971,
   "metadata": {},
   "outputs": [],
   "source": [
    "# frameWork2()\n"
   ]
  },
  {
   "cell_type": "code",
   "execution_count": 972,
   "metadata": {},
   "outputs": [],
   "source": [
    "def generateRandomNumberForEveryExpert():\n",
    "    # global dictionaryOfRandomNumberPerExpert\n",
    "    generatedRandomNumbers = [rd.randint(0,100) for x in range(numberOfExperts)]\n",
    "    # print(generatedRandomNumbers)\n",
    "    return generatedRandomNumbers\n",
    "    # print(dictionaryOfSumGeneratedPerRandomNumber)"
   ]
  },
  {
   "cell_type": "code",
   "execution_count": 973,
   "metadata": {},
   "outputs": [],
   "source": [
    "def transferingTheRandomNumberOfEveryExpert():\n",
    "        for i in range(numberOfExperts):\n",
    "                dictionaryOfRandomNumberGatheredFromOtherExperts[i] = [dictionaryOfRandomNumberPerExpert[k][i] for k in range(numberOfExperts) if k != i]"
   ]
  },
  {
   "cell_type": "code",
   "execution_count": 974,
   "metadata": {},
   "outputs": [],
   "source": [
    "def forwardTheRespectiveRandomNumbers(idR,generatedRandomNumbers):\n",
    "    encryptedRandomNumber = dictionaryOfExpertPublicKeys[idR].raw_encrypt(generatedRandomNumbers[idR])\n",
    "    message = encryptedRandomNumber\n",
    "    return message\n",
    "# ,createDigitalSignature(encryptedRandomNumber,idS)"
   ]
  },
  {
   "cell_type": "code",
   "execution_count": 975,
   "metadata": {},
   "outputs": [],
   "source": [
    "# def expertsCalculatingTheHiddenScore(dictionaryOfRandomNumberMappedToEveryCandidate):\n",
    "#     for i in range(numberOfCandidates):\n",
    "#         for j in range(numberOfExperts):\n",
    "#             mark = rd.randint(0,10)\n",
    "#             hiddenScore = mark + dictionaryOfRandomNumberMappedToEveryCandidate[i][j][j]\n",
    "#             sum = 0\n",
    "#             for k in range(numberOfExperts):\n",
    "#                     encryptedRandomNumber = dictionaryOfRandomNumberMappedToEveryCandidate[i][k][j]\n",
    "#                     sum  = sum + dictionaryOfExpertPrivateKeys[j].raw_decrypt(encryptedRandomNumber)\n",
    "#             hiddenScore = hiddenScore - sum\n",
    "#             message = hiddenScore\n",
    "#             marksToCandidates[j][i] = message\n",
    "#             # ,createDigitalSignature(hiddenScore,j)"
   ]
  },
  {
   "cell_type": "code",
   "execution_count": 976,
   "metadata": {},
   "outputs": [],
   "source": [
    "def performSMPCBetweenExperts():\n",
    "    #this part of the code simulates the part where expert follow the smpc process\n",
    "    #the random number assgned by all the experts has been mapped for every candidate\n",
    "    \n",
    "    for i in range(numberOfCandidates):\n",
    "        matrixOfForwardedMessages = [[0 for i in range(numberOfExperts)] for j in range(numberOfExperts)]\n",
    "        sumList = []\n",
    "        for j in range(numberOfExperts):\n",
    "            generatedRandomNumbers = generateRandomNumberForEveryExpert()\n",
    "            sumOfTheRandomNumbers = sum(generatedRandomNumbers) \n",
    "            sumList.append(sumOfTheRandomNumbers)\n",
    "\n",
    "            for k in range(numberOfExperts):\n",
    "                if(j != k):\n",
    "                    message = forwardTheRespectiveRandomNumbers(k,generatedRandomNumbers)\n",
    "                    matrixOfForwardedMessages[j][k] = message\n",
    "                else:\n",
    "                    matrixOfForwardedMessages[j][k] = generatedRandomNumbers[j]\n",
    "        dictionaryOfRandomNumberMappedToEveryCandidate[i] = matrixOfForwardedMessages\n",
    "        dictionaryOftheSumOfRandomNumbermappedToEveryCandidate[i] = sumList\n",
    "    print(dictionaryOfRandomNumberMappedToEveryCandidate)\n",
    "    print(dictionaryOftheSumOfRandomNumbermappedToEveryCandidate)\n",
    "    # print(dictionaryOfSumGeneratedPerRandomNumber)\n",
    "    \n",
    "\n",
    "    "
   ]
  },
  {
   "cell_type": "code",
   "execution_count": 977,
   "metadata": {},
   "outputs": [],
   "source": [
    "def generateHiddenScoreFrameWork3():\n",
    "    global marksToCandidates\n",
    "    for i in range(numberOfCandidates):\n",
    "        for j in range(numberOfExperts):\n",
    "            mark = rd.randint(0,100)\n",
    "            hiddenScore = mark + dictionaryOftheSumOfRandomNumbermappedToEveryCandidate[i][j]\n",
    "            sum  = 0\n",
    "            for k in range(numberOfExperts):\n",
    "                if(j != k):\n",
    "                    encryptedRandomNumber = dictionaryOfRandomNumberMappedToEveryCandidate[i][k][j]\n",
    "                    # print(encryptedRandomNumber)\n",
    "                    sum  = sum + dictionaryOfExpertPrivateKeys[j].raw_decrypt(encryptedRandomNumber)\n",
    "                else: \n",
    "                    sum = sum + dictionaryOfRandomNumberMappedToEveryCandidate[i][j][j]\n",
    "            hiddenScore  = hiddenScore -sum\n",
    "            print(hiddenScore)\n",
    "            marksToCandidates[j][i] = hiddenScore\n",
    "            \n"
   ]
  },
  {
   "cell_type": "code",
   "execution_count": 978,
   "metadata": {},
   "outputs": [],
   "source": [
    "def candidateManagerFrameWork3BestCandidate():\n",
    "    array = []\n",
    "    for i in range(numberOfCandidates):\n",
    "        sum = 0\n",
    "        for j in range(numberOfExperts):\n",
    "            cummulativeScore = marksToCandidates[j][i]\n",
    "            sum  = sum + cummulativeScore\n",
    "        array.append(sum)\n",
    "    print(array)\n",
    "    print(array.index(max(array)))"
   ]
  },
  {
   "cell_type": "code",
   "execution_count": 979,
   "metadata": {},
   "outputs": [],
   "source": [
    "def frameWork3():\n",
    "    performSMPCBetweenExperts()\n",
    "    generateHiddenScoreFrameWork3()\n",
    "    candidateManagerFrameWork3BestCandidate()\n",
    "    \n",
    "        \n",
    "    #     dictionaryOfRandomNumberMappedToEveryCandidate[i]   = matrixOfForwardedMessages  \n",
    "    #     dictionaryOfSumGeneratedPerRandomNumber[i] = matrixOfTheSumOfRandomnumbers  \n",
    "    # expertsCalculatingTheHiddenScore(dictionaryOfRandomNumberMappedToEveryCandidate)     \n",
    "    # # candidateManagerFrameWork3BestCandidate()\n",
    "    "
   ]
  },
  {
   "cell_type": "code",
   "execution_count": 980,
   "metadata": {},
   "outputs": [
    {
     "name": "stdout",
     "output_type": "stream",
     "text": [
      "{0: [[49, 55154134435730401356657810331525163526520328902865775909917591491222495449415, 32064761905448534464425489774867650269861724988036905746933212597621010649641], [9067104569929787049968665245939349008247428712740525945049944776883187944990, 9, 41137135784413582778400364288118182360603568026465196595854569937981772393534], [7882870608751048109688480713842033841675491229425436020173699129860873673540, 51396204617736516883626740843842866026498685659318577464228285080628360800644, 82]], 1: [[35, 63478461898750251104020110581303663683558394746937725897741510424821174980093, 31665721065591026528794820213347625750897971114374874683675935928990915216151], [2005146545749649365677559134572494126210244340170968135537999236070447929491, 72, 36180695085633909169097180227124207368481779306378306317474758123846326749272], [22538579685979950890902018266316841122554544895042996772593263605457302235369, 11794275230808537565122238852453799064061592338276909937831534383618364468264, 66]], 2: [[17, 45257809964747166851869177530376216153599211901393417005848405073452802029148, 10021349443245204645120540984770011365801134055377028367388864868575477654041], [44477185509981756581776473352945400905378869304516655545601033776808692624128, 66, 32593920927816332134983222419176595782236443451134021462462929183314780586655], [5898108836776338363397188928105225543875999885191585391037909275147099115172, 45616392917663443692079810449584696318112947988383695359027881866547547549083, 0]], 3: [[38, 16872847417680246297332015430489979393156011793556172055168001795236559493019, 9816298417680256713071686906686907509063780927924351598043851310889560142833], [12433747895897302915944343988163418605968769982632250883625578363682024638738, 57, 40678260392450573940728059752734991644873403290028009172416464881336287858451], [44009251438090342332918344580405334158750977983857936859034408600586548367835, 12545293324370924492121272335616908034906904477920960067065810503804597769546, 78]], 4: [[88, 14707507267594254684762903220482697720327851531153181586803913414921935268431, 13872339269986943073619330253387045174921622653763772408521463132202174011027], [43963456373166927294476759819383689967884180578485863762270159334604049061712, 70, 13855591702769452887601410863250029324298340743940733316651392799831377762112], [3082057838234978248334064092582436468997484906042673240599610726533390976348, 55761994273370390600574612343264157355360583628114063929583751924712673668961, 17]]}\n",
      "{0: [149, 72, 172], 1: [102, 210, 175], 2: [60, 157, 94], 3: [91, 132, 182], 4: [227, 215, 132]}\n",
      "20\n",
      "98\n",
      "101\n",
      "-31\n",
      "58\n",
      "63\n",
      "11\n",
      "121\n",
      "61\n",
      "113\n",
      "67\n",
      "30\n",
      "88\n",
      "115\n",
      "29\n",
      "[219, 90, 193, 210, 232]\n",
      "4\n"
     ]
    }
   ],
   "source": [
    "frameWork3()"
   ]
  },
  {
   "cell_type": "code",
   "execution_count": 981,
   "metadata": {},
   "outputs": [],
   "source": [
    "def generateHiddenScoreFrameWork4():\n",
    "    global marksToCandidates\n",
    "    for i in range(numberOfCandidates):\n",
    "        for j in range(numberOfExperts):\n",
    "            mark = rd.randint(0,100)\n",
    "            hiddenScore = mark + dictionaryOftheSumOfRandomNumbermappedToEveryCandidate[i][j]\n",
    "            sum  = 0\n",
    "            for k in range(numberOfExperts):\n",
    "                if(j != k):\n",
    "                    encryptedRandomNumber = dictionaryOfRandomNumberMappedToEveryCandidate[i][k][j]\n",
    "                    # print(encryptedRandomNumber)\n",
    "                    sum  = sum + dictionaryOfExpertPrivateKeys[j].raw_decrypt(encryptedRandomNumber)\n",
    "                else: \n",
    "                    sum = sum + dictionaryOfRandomNumberMappedToEveryCandidate[i][j][j]\n",
    "            hiddenScore  = hiddenScore -sum\n",
    "            # print(hiddenScore)\n",
    "            marksToCandidates[j][i] = publicKeyEmployer.raw_encrypt(hiddenScore)"
   ]
  },
  {
   "cell_type": "code",
   "execution_count": 982,
   "metadata": {},
   "outputs": [],
   "source": [
    "def employerFindsTheBestCandidate(array):\n",
    "    marksOfCandidates = [privateKeyEmployer.raw_decrypt(x) for x in array]\n",
    "    print(marksOfCandidates)\n"
   ]
  },
  {
   "cell_type": "code",
   "execution_count": 983,
   "metadata": {},
   "outputs": [],
   "source": [
    "def candidateManagerFrameWork4BestCandidate():\n",
    "    array = []\n",
    "    for i in range(numberOfCandidates):\n",
    "        sum = 1\n",
    "        for j in range(numberOfExperts):\n",
    "            cummulativeScore = marksToCandidates[j][i]\n",
    "            sum  = sum * cummulativeScore\n",
    "        array.append(sum)\n",
    "    employerFindsTheBestCandidate(array)\n"
   ]
  },
  {
   "cell_type": "code",
   "execution_count": 984,
   "metadata": {},
   "outputs": [],
   "source": [
    "def framework4():\n",
    "    performSMPCBetweenExperts()\n",
    "    generateHiddenScoreFrameWork4()\n",
    "    candidateManagerFrameWork4BestCandidate()\n"
   ]
  },
  {
   "cell_type": "code",
   "execution_count": 985,
   "metadata": {},
   "outputs": [
    {
     "name": "stdout",
     "output_type": "stream",
     "text": [
      "{0: [[50, 34569766656311595518741790489861219386867250920061909617012717482414877928135, 20822800823060078979618477409910220706947319502315554972787880640613760577668], [29406780470501716036205243471996299804731183955493181291765819974944985679734, 88, 18574230304204178043792514790219153095105473849263316761588859112901025982443], [19362817034232730932700991019341091758483827315025493754924528672618809136311, 11200960760468460312455250258613063962574240029964805262457608099139636735491, 21]], 1: [[64, 23814014677028035466396433402725564806595224443141892854495361596972737646963, 20006645951304741169139733076175851736250717626482542285938694532203641759483], [34633855500003485112110324945841012772337228688129942870748915002500079753588, 66, 29841077765067416189053114493492594517108831674787064631185910232093593370614], [35865478531315509082869757911181119414770096077494648611082281935123431021174, 7103678521457830877639928478559323577229026208767939001456209077551769899282, 36]], 2: [[49, 51308286396898448477331226677241880414048880630364576032079995286424121330410, 610481404772722214176976694650120122414888904272423261766448056779321586217], [37838457919942907741635648823091558989821800830377500358544212732608768975235, 43, 37328415065735449493426304025967737421545563960722375994183177927181666797803], [41713975499064669654503642202958403752224315597063100704165351686066819200956, 55726608095223202367485254311052502498779226784319353355883162019836948463697, 2]], 3: [[85, 46036547932938287282838101380734310390542614901701659197262678112707332509716, 29239741765497033170262392165237942644122436371362696225406306933980796618964], [44296165731701572099731300829488128485994278003043547104668378027775829223077, 46, 26158836181588576820647197740940826281473654710588328520047770435616146389126], [9514265191541862290142254950148301744920835605915809248410188150689055967450, 51825713883261635404625821922729738243154414848539783173333905592335736810259, 85]], 4: [[66, 672751553030493092684290897332587276426367516430636850880932249194540684991, 41602127061005139284985278663172874436299309900628257866435578228945512540762], [44276565836303108300809937246897819610235451091162074517502539339321253395782, 34, 36773125249546705875532256542551825872592346409896617166453639275924650898724], [42785550355827520144589683292780229694407303882600317562010696304789126488809, 46974502716531390977653540143295820259368703843586590052418118398942955022507, 77]]}\n",
      "{0: [113, 145, 123], 1: [109, 181, 162], 2: [145, 230, 132], 3: [230, 141, 196], 4: [171, 41, 205]}\n",
      "[171, 162, 174, 68, 131]\n"
     ]
    }
   ],
   "source": [
    "framework4()"
   ]
  }
 ],
 "metadata": {
  "kernelspec": {
   "display_name": "Python 3",
   "language": "python",
   "name": "python3"
  },
  "language_info": {
   "codemirror_mode": {
    "name": "ipython",
    "version": 3
   },
   "file_extension": ".py",
   "mimetype": "text/x-python",
   "name": "python",
   "nbconvert_exporter": "python",
   "pygments_lexer": "ipython3",
   "version": "3.10.6"
  }
 },
 "nbformat": 4,
 "nbformat_minor": 2
}
