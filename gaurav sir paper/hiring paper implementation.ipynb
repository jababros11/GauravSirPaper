{
 "cells": [
  {
   "cell_type": "code",
   "execution_count": 1,
   "metadata": {},
   "outputs": [],
   "source": [
    "#importing libraries\n",
    "\n",
    "import random as rd\n",
    "import hashlib\n",
    "import phe\n",
    "import rsa"
   ]
  },
  {
   "cell_type": "code",
   "execution_count": 2,
   "metadata": {},
   "outputs": [],
   "source": [
    "#declaring of varibles\n",
    "numberOfExperts = 3\n",
    "numberOfCandidates = 5\n",
    "#collection of homomophic public and private keys\n",
    "dictionaryOfExpertPublicKeys = {}\n",
    "dictionaryOfExpertPrivateKeys = {}\n",
    "\n",
    "dictionaryOfCandidatesPublicKeys = {}\n",
    "dictionaryOfCandidatesPrivateKeys = {}\n",
    "\n",
    "#Variables for third framework@\n",
    "dictionaryOfRandomNumberPerExpert = {}\n",
    "dictionaryOftheSumOfRandomNumbermappedToEveryCandidate = {}\n",
    "dictionaryOfRandomNumberGatheredFromOtherExperts = {}\n",
    "dictionaryOfRandomNumberMappedToEveryCandidate = {}\n",
    "\n",
    "#Collection of rsa public and private keys for digital signature\n",
    "dictOfrsaPubKey = {}\n",
    "dictOfrsaPriKey = {}\n",
    "marksToCandidates = [[0 for i in range(numberOfCandidates)] for j in range(numberOfExperts)]\n"
   ]
  },
  {
   "cell_type": "code",
   "execution_count": 3,
   "metadata": {},
   "outputs": [],
   "source": [
    "#this part of the code create the public and private homomorphic key pairs\n",
    "\n",
    "for i in range(numberOfExperts):\n",
    "    x,y = phe.generate_paillier_keypair(n_length=128)\n",
    "    dictionaryOfExpertPublicKeys[i] = x\n",
    "    dictionaryOfExpertPrivateKeys[i] = y\n",
    "    \n",
    "\n",
    "for i in range(numberOfCandidates):\n",
    "    x,y = phe.generate_paillier_keypair(n_length=128)\n",
    "    dictionaryOfCandidatesPublicKeys[i]= x\n",
    "    dictionaryOfCandidatesPrivateKeys[i] = y \n",
    "\n",
    "publicKeyEmployer,privateKeyEmployer = phe.generate_paillier_keypair(n_length=128)\n"
   ]
  },
  {
   "cell_type": "code",
   "execution_count": 4,
   "metadata": {},
   "outputs": [],
   "source": [
    "#@code to generate rsa public and private keys\n",
    "for i in range(numberOfExperts):\n",
    "    (pubkey, privkey) = rsa.newkeys(512)\n",
    "    dictOfrsaPubKey[i],dictOfrsaPriKey[i] = pubkey, privkey \n"
   ]
  },
  {
   "cell_type": "code",
   "execution_count": 5,
   "metadata": {},
   "outputs": [],
   "source": [
    "# function to create digital signature\n",
    "def createDigitalSignature(message,i):\n",
    "    privkey = dictOfrsaPriKey[i]\n",
    "    temp = str(message).encode()\n",
    "    signature = rsa.sign(temp, privkey, 'SHA-1')\n",
    "    return signature"
   ]
  },
  {
   "cell_type": "code",
   "execution_count": 6,
   "metadata": {},
   "outputs": [],
   "source": [
    "#this part of the code finds the highest marks gaining candidate id this acts as the candidate manager for the first frame work\n",
    "def candidateManagerFrameWork1BestCandidate():\n",
    "    array  = []\n",
    "    for i in range(len(marksToCandidates[0])):\n",
    "        sum = 0\n",
    "        for j in range(len(marksToCandidates)):\n",
    "            sum = sum + marksToCandidates[j][i][0]\n",
    "        print(sum)\n",
    "        array.append(sum)\n",
    "        \n",
    "    print(\"hihgest marks gaining candidate =\",array.index( max(array)))    \n"
   ]
  },
  {
   "cell_type": "code",
   "execution_count": 7,
   "metadata": {
    "tags": [
     "parameters"
    ]
   },
   "outputs": [],
   "source": [
    "#this part of the code defines the first frame work\n",
    "def framreWork1():\n",
    "    global marksToCandidates\n",
    "    for i in range(numberOfExperts):\n",
    "        for j in range(numberOfCandidates):\n",
    "            mark = rd.randint(0,10)\n",
    "            marksToCandidates[i][j] = [mark,createDigitalSignature(mark,i)]\n",
    "    candidateManagerFrameWork1BestCandidate()"
   ]
  },
  {
   "cell_type": "code",
   "execution_count": 8,
   "metadata": {},
   "outputs": [],
   "source": [
    "# framreWork1()\n",
    "# print(marksToCandidates)"
   ]
  },
  {
   "cell_type": "code",
   "execution_count": 9,
   "metadata": {},
   "outputs": [],
   "source": [
    "# tjhis part of the code works as the employer of the seconde frame work who finds the est candidate\n",
    "def employerFindingBestCandidate(array):\n",
    "    array = [privateKeyEmployer.raw_decrypt(x) for x in array]\n",
    "    print(array.index(max(array)))\n",
    "    print(array)"
   ]
  },
  {
   "cell_type": "code",
   "execution_count": 10,
   "metadata": {},
   "outputs": [],
   "source": [
    "# this part of the code works as the candidate manager who adds the marks by multiplication of the encrytpion and than passes them to the employer\n",
    "def candidateManagerFrameWork2BestCandidate():\n",
    "    array  = []\n",
    "    for i in range(len(marksToCandidates[0])):\n",
    "        sum = 1\n",
    "        for j in range(len(marksToCandidates)):\n",
    "            sum = sum * marksToCandidates[j][i][0]\n",
    "        array.append(sum)\n",
    "    employerFindingBestCandidate(array)\n",
    "    "
   ]
  },
  {
   "cell_type": "code",
   "execution_count": 11,
   "metadata": {},
   "outputs": [],
   "source": [
    "def frameWork2():\n",
    "    global marksToCandidates\n",
    "    #this part of code simulates the expert giving marks to the candidates and storing them in form of matrix\n",
    "    for i in range(numberOfExperts):\n",
    "        for j in range(numberOfCandidates):\n",
    "            mark = rd.randint(0,10)\n",
    "            encryptedMark = publicKeyEmployer.raw_encrypt(mark)\n",
    "            marksToCandidates[i][j] = [encryptedMark,createDigitalSignature(mark,i)]\n",
    "    candidateManagerFrameWork2BestCandidate()\n",
    "    "
   ]
  },
  {
   "cell_type": "code",
   "execution_count": 12,
   "metadata": {},
   "outputs": [],
   "source": [
    "# frameWork2()\n"
   ]
  },
  {
   "cell_type": "code",
   "execution_count": 13,
   "metadata": {},
   "outputs": [],
   "source": [
    "def generateRandomNumberForEveryExpert():\n",
    "    # global dictionaryOfRandomNumberPerExpert\n",
    "    generatedRandomNumbers = [rd.randint(0,100) for x in range(numberOfExperts)]\n",
    "    # print(generatedRandomNumbers)\n",
    "    return generatedRandomNumbers\n",
    "    # print(dictionaryOfSumGeneratedPerRandomNumber)"
   ]
  },
  {
   "cell_type": "code",
   "execution_count": 14,
   "metadata": {},
   "outputs": [],
   "source": [
    "def transferingTheRandomNumberOfEveryExpert():\n",
    "        for i in range(numberOfExperts):\n",
    "                dictionaryOfRandomNumberGatheredFromOtherExperts[i] = [dictionaryOfRandomNumberPerExpert[k][i] for k in range(numberOfExperts) if k != i]"
   ]
  },
  {
   "cell_type": "code",
   "execution_count": 15,
   "metadata": {},
   "outputs": [],
   "source": [
    "def forwardTheRespectiveRandomNumbers(idR,generatedRandomNumbers):\n",
    "    encryptedRandomNumber = dictionaryOfExpertPublicKeys[idR].raw_encrypt(generatedRandomNumbers[idR])\n",
    "    message = encryptedRandomNumber\n",
    "    return message\n",
    "# ,createDigitalSignature(encryptedRandomNumber,idS)"
   ]
  },
  {
   "cell_type": "code",
   "execution_count": 16,
   "metadata": {},
   "outputs": [],
   "source": [
    "# def expertsCalculatingTheHiddenScore(dictionaryOfRandomNumberMappedToEveryCandidate):\n",
    "#     for i in range(numberOfCandidates):\n",
    "#         for j in range(numberOfExperts):\n",
    "#             mark = rd.randint(0,10)\n",
    "#             hiddenScore = mark + dictionaryOfRandomNumberMappedToEveryCandidate[i][j][j]\n",
    "#             sum = 0\n",
    "#             for k in range(numberOfExperts):\n",
    "#                     encryptedRandomNumber = dictionaryOfRandomNumberMappedToEveryCandidate[i][k][j]\n",
    "#                     sum  = sum + dictionaryOfExpertPrivateKeys[j].raw_decrypt(encryptedRandomNumber)\n",
    "#             hiddenScore = hiddenScore - sum\n",
    "#             message = hiddenScore\n",
    "#             marksToCandidates[j][i] = message\n",
    "#             # ,createDigitalSignature(hiddenScore,j)"
   ]
  },
  {
   "cell_type": "code",
   "execution_count": 17,
   "metadata": {},
   "outputs": [],
   "source": [
    "def performSMPCBetweenExperts():\n",
    "    #this part of the code simulates the part where expert follow the smpc process\n",
    "    #the random number assgned by all the experts has been mapped for every candidate\n",
    "    \n",
    "    for i in range(numberOfCandidates):\n",
    "        matrixOfForwardedMessages = [[0 for i in range(numberOfExperts)] for j in range(numberOfExperts)]\n",
    "        sumList = []\n",
    "        for j in range(numberOfExperts):\n",
    "            generatedRandomNumbers = generateRandomNumberForEveryExpert()\n",
    "            sumOfTheRandomNumbers = sum(generatedRandomNumbers) \n",
    "            sumList.append(sumOfTheRandomNumbers)\n",
    "\n",
    "            for k in range(numberOfExperts):\n",
    "                if(j != k):\n",
    "                    message = forwardTheRespectiveRandomNumbers(k,generatedRandomNumbers)\n",
    "                    matrixOfForwardedMessages[j][k] = message\n",
    "                else:\n",
    "                    matrixOfForwardedMessages[j][k] = generatedRandomNumbers[j]\n",
    "        dictionaryOfRandomNumberMappedToEveryCandidate[i] = matrixOfForwardedMessages\n",
    "        dictionaryOftheSumOfRandomNumbermappedToEveryCandidate[i] = sumList\n",
    "    print(dictionaryOfRandomNumberMappedToEveryCandidate)\n",
    "    print(dictionaryOftheSumOfRandomNumbermappedToEveryCandidate)\n",
    "    # print(dictionaryOfSumGeneratedPerRandomNumber)\n",
    "    \n",
    "\n",
    "    "
   ]
  },
  {
   "cell_type": "code",
   "execution_count": 18,
   "metadata": {},
   "outputs": [],
   "source": [
    "def generateHiddenScoreFrameWork3():\n",
    "    global marksToCandidates\n",
    "    for i in range(numberOfCandidates):\n",
    "        for j in range(numberOfExperts):\n",
    "            mark = rd.randint(0,100)\n",
    "            hiddenScore = mark + dictionaryOftheSumOfRandomNumbermappedToEveryCandidate[i][j]\n",
    "            sum  = 0\n",
    "            for k in range(numberOfExperts):\n",
    "                if(j != k):\n",
    "                    encryptedRandomNumber = dictionaryOfRandomNumberMappedToEveryCandidate[i][k][j]\n",
    "                    # print(encryptedRandomNumber)\n",
    "                    sum  = sum + dictionaryOfExpertPrivateKeys[j].raw_decrypt(encryptedRandomNumber)\n",
    "                else: \n",
    "                    sum = sum + dictionaryOfRandomNumberMappedToEveryCandidate[i][j][j]\n",
    "            hiddenScore  = hiddenScore -sum\n",
    "            print(hiddenScore)\n",
    "            marksToCandidates[j][i] = hiddenScore\n",
    "            \n"
   ]
  },
  {
   "cell_type": "code",
   "execution_count": 19,
   "metadata": {},
   "outputs": [],
   "source": [
    "def candidateManagerFrameWork3BestCandidate():\n",
    "    array = []\n",
    "    for i in range(numberOfCandidates):\n",
    "        sum = 0\n",
    "        for j in range(numberOfExperts):\n",
    "            cummulativeScore = marksToCandidates[j][i]\n",
    "            sum  = sum + cummulativeScore\n",
    "        array.append(sum)\n",
    "    print(array)\n",
    "    print(array.index(max(array)))"
   ]
  },
  {
   "cell_type": "code",
   "execution_count": 20,
   "metadata": {},
   "outputs": [],
   "source": [
    "def frameWork3():\n",
    "    performSMPCBetweenExperts()\n",
    "    generateHiddenScoreFrameWork3()\n",
    "    candidateManagerFrameWork3BestCandidate()\n",
    "    \n",
    "        \n",
    "    #     dictionaryOfRandomNumberMappedToEveryCandidate[i]   = matrixOfForwardedMessages  \n",
    "    #     dictionaryOfSumGeneratedPerRandomNumber[i] = matrixOfTheSumOfRandomnumbers  \n",
    "    # expertsCalculatingTheHiddenScore(dictionaryOfRandomNumberMappedToEveryCandidate)     \n",
    "    # # candidateManagerFrameWork3BestCandidate()\n",
    "    "
   ]
  },
  {
   "cell_type": "code",
   "execution_count": 21,
   "metadata": {},
   "outputs": [
    {
     "name": "stdout",
     "output_type": "stream",
     "text": [
      "{0: [[84, 39650820178489163978911462227970469632285525931661010909482542901810259212969, 2812203087293696605696880361758387165322125311664307991417783619868272875383], [28541455336169821228538024779382266622961428178990207995024362907913777745918, 40, 51604464567749000975040297738299234862853249847487755615103299951182892953626], [16878508182111693746803470223207732056747302138558537468714586571819927711782, 36676613719992085529339810157007624914030818490077640744693981384114498969516, 30]], 1: [[84, 1523363848499017928764023187219362157424803964253472717580373803542048523571, 41831495367525658238444225783951693102861260159066760640442377350724586617420], [3029090858238835826933398083640186866467598866705668285271368511779998472757, 4, 38167406906376186798365982341887262360397143035946037584142683883395075721910], [25866871368653147673156089818591289194428400574261882114824347079075796504886, 46510354052592453093286469931889982525953650119273735117679259346816691390001, 40]], 2: [[8, 22773884323211411257310724626306539148730924939578925129492712695287584477896, 40544860746112091464842796001365396676335133780130364595692624759394733438438], [4711763948926622175709424154136946907465378004000144275291093979828310511309, 99, 62377499091637905066090407432267130737572716654818893886610673893882627432068], [27070439432628252506089644165014497425829973432907738955934794267239978713650, 74542189404503022433647153474083361650353845827313632192559947781621644592331, 43]], 3: [[9, 19261303350156568962817772476877415730942982693826295188688232761434851725091, 63741921384341054010920060037465137723107393907285336870592479938259595793613], [9797178318013618564585261441506493717071962797838872832873226012355668720597, 46, 18084586886289652857338406365881161369382632322439632389332399885966006357157], [22098945903200370692404019965526235656112940336868554573880850617571640757889, 23143426440627006887968011536140240492979242517879361000077975026738057790914, 97]], 4: [[14, 2680065476199327047394299425648220314258211832289520085295943037347538580120, 22773307087581082419149193790678537881820636911553784579189773272164883611778], [24083265730451296904811241463000169336072607172166369300324817648640986195895, 82, 26593992668567609348856318359291105755996158392435792659694566503008070760973], [14685737452351441839618632298093999080535043951127598606487045829541515480186, 74595889697483455305712409431949509474411096185050166795530664199461424921197, 55]]}\n",
      "{0: [180, 147, 114], 1: [101, 126, 97], 2: [50, 250, 177], 3: [156, 107, 199], 4: [45, 141, 165]}\n",
      "115\n",
      "45\n",
      "-23\n",
      "-18\n",
      "162\n",
      "-6\n",
      "-23\n",
      "79\n",
      "138\n",
      "122\n",
      "-20\n",
      "81\n",
      "-9\n",
      "69\n",
      "157\n",
      "[137, 138, 194, 183, 217]\n",
      "4\n"
     ]
    }
   ],
   "source": [
    "frameWork3()"
   ]
  },
  {
   "cell_type": "code",
   "execution_count": 22,
   "metadata": {},
   "outputs": [],
   "source": [
    "def generateHiddenScoreFrameWork4():\n",
    "    global marksToCandidates\n",
    "    for i in range(numberOfCandidates):\n",
    "        for j in range(numberOfExperts):\n",
    "            mark = rd.randint(0,100)\n",
    "            hiddenScore = mark + dictionaryOftheSumOfRandomNumbermappedToEveryCandidate[i][j]\n",
    "            sum  = 0\n",
    "            for k in range(numberOfExperts):\n",
    "                if(j != k):\n",
    "                    encryptedRandomNumber = dictionaryOfRandomNumberMappedToEveryCandidate[i][k][j]\n",
    "                    # print(encryptedRandomNumber)\n",
    "                    sum  = sum + dictionaryOfExpertPrivateKeys[j].raw_decrypt(encryptedRandomNumber)\n",
    "                else: \n",
    "                    sum = sum + dictionaryOfRandomNumberMappedToEveryCandidate[i][j][j]\n",
    "            hiddenScore  = hiddenScore -sum\n",
    "            # print(hiddenScore)\n",
    "            marksToCandidates[j][i] = publicKeyEmployer.raw_encrypt(hiddenScore)"
   ]
  },
  {
   "cell_type": "code",
   "execution_count": 23,
   "metadata": {},
   "outputs": [],
   "source": [
    "def employerFindsTheBestCandidate(array):\n",
    "    marksOfCandidates = [privateKeyEmployer.raw_decrypt(x) for x in array]\n",
    "    print(marksOfCandidates)\n"
   ]
  },
  {
   "cell_type": "code",
   "execution_count": 24,
   "metadata": {},
   "outputs": [],
   "source": [
    "def candidateManagerFrameWork4BestCandidate():\n",
    "    array = []\n",
    "    for i in range(numberOfCandidates):\n",
    "        sum = 1\n",
    "        for j in range(numberOfExperts):\n",
    "            cummulativeScore = marksToCandidates[j][i]\n",
    "            sum  = sum * cummulativeScore\n",
    "        array.append(sum)\n",
    "    employerFindsTheBestCandidate(array)\n"
   ]
  },
  {
   "cell_type": "code",
   "execution_count": 25,
   "metadata": {},
   "outputs": [],
   "source": [
    "def framework4():\n",
    "    performSMPCBetweenExperts()\n",
    "    generateHiddenScoreFrameWork4()\n",
    "    candidateManagerFrameWork4BestCandidate()\n"
   ]
  },
  {
   "cell_type": "code",
   "execution_count": 26,
   "metadata": {},
   "outputs": [
    {
     "name": "stdout",
     "output_type": "stream",
     "text": [
      "{0: [[100, 7276460624286034924825259370524207079550693854564177156372032118919079796570, 12095192195885211508699910700320986728985557459681919709325881221485109415634], [20447552542890760478132435010417538580904160689123070586921624442561182549074, 38, 8595648749093165086791591161289125675633153862091767799566790741707702206451], [20574902939092473232945195792532353946393257406329217396955956056002046671168, 58865829948380994029944540312766186907553847985360945569653669544951044889126, 9]], 1: [[24, 38344380462728175369503084136659251290646279011079772482426315949457956616682, 2343232222043661938603249960647595700200600172763806091732729564950132761073], [24324040777111709356509029810141112755710846969329926093334815877997662118112, 36, 23181548150367472357693754297191226037318715948818699015656857574393086469977], [29555085910970936319335971581791637507686452857810418612366162925362573219657, 75559487064550231128168081029618080851134350740044844234372662122627610701007, 68]], 2: [[9, 17586664733090739342756115538493951933048855764386224871049435480201622604723, 18744038166846924531878656569223338769429647921904231443693474813096901097949], [26364152419594472529904932550487321868595970743815891445515587326177007365044, 28, 37768322650501822862394731961163007509389970356279340424861999974164194609688], [25501684991634478522562741580929408506456126104374770581338390538772709903441, 69015635136618871356638167120454877373145520654488641264087389232013432773992, 43]], 3: [[52, 65772812508267028313436323897969762056818855443867310470163108672478573738127, 17328834693730467461106407311893651663722123996673950420761057637200872103794], [29027075624994460602646578299850340815535334721893312792572956114736099120734, 15, 60441979409443941454148292788614881353232435479799713331228076344336898129257], [6270197115713400761802329691469050737116098746351334874456569329803927679950, 75135159992709013189144249164976638624620851854896482291609669611255403628201, 25]], 4: [[36, 22796641440925649732317954009502539355364613592153735411216014253333141899288, 45633094599604041092330289856748490714634105594629897997013307882365816465964], [16921931924779255103508105708759026286903904177973702135980084882359230173412, 53, 30074250880612030610272278898070734663045747787246128834041857875537203334283], [22590874535495061369949940862899826829068808354372794554112475057408805757647, 23096246531060668903771791689592289669974106360604268181950834333533664836289, 36]]}\n",
      "{0: [153, 148, 24], 1: [129, 170, 73], 2: [36, 70, 148], 3: [111, 194, 73], 4: [97, 146, 109]}\n",
      "[159, 131, 130, 200, 193]\n"
     ]
    }
   ],
   "source": [
    "framework4()"
   ]
  }
 ],
 "metadata": {
  "kernelspec": {
   "display_name": "Python 3",
   "language": "python",
   "name": "python3"
  },
  "language_info": {
   "codemirror_mode": {
    "name": "ipython",
    "version": 3
   },
   "file_extension": ".py",
   "mimetype": "text/x-python",
   "name": "python",
   "nbconvert_exporter": "python",
   "pygments_lexer": "ipython3",
   "version": "3.10.6"
  }
 },
 "nbformat": 4,
 "nbformat_minor": 2
}
