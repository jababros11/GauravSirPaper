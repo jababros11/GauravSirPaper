{
 "cells": [
  {
   "cell_type": "code",
   "execution_count": null,
   "metadata": {},
   "outputs": [],
   "source": [
    "#importing libraries\n",
    "\n",
    "import random as rd\n",
    "import hashlib\n",
    "import phe\n",
    "import rsa"
   ]
  },
  {
   "cell_type": "code",
   "execution_count": null,
   "metadata": {},
   "outputs": [],
   "source": [
    "#declaring of varibles\n",
    "numberOfExperts = 3\n",
    "numberOfCandidates = 50\n",
    "#collection of homomophic public and private keys\n",
    "dictionaryOfExpertPublicKeys = {}\n",
    "dictionaryOfExpertPrivateKeys = {}\n",
    "\n",
    "dictionaryOfCandidatesPublicKeys = {}\n",
    "dictionaryOfCandidatesPrivateKeys = {}\n",
    "\n",
    "#Variables for third framework@\n",
    "dictionaryOfRandomNumberPerExpert = {}\n",
    "dictionaryOftheSumOfRandomNumbermappedToEveryCandidate = {}\n",
    "dictionaryOfRandomNumberGatheredFromOtherExperts = {}\n",
    "dictionaryOfRandomNumberMappedToEveryCandidate = {}\n",
    "\n",
    "#Collection of rsa public and private keys for digital signature\n",
    "dictOfrsaPubKey = {}\n",
    "dictOfrsaPriKey = {}\n",
    "marksToCandidates = [[0 for i in range(numberOfCandidates)] for j in range(numberOfExperts)]\n"
   ]
  },
  {
   "cell_type": "code",
   "execution_count": null,
   "metadata": {},
   "outputs": [],
   "source": [
    "#this part of the code create the public and private homomorphic key pairs\n",
    "\n",
    "for i in range(numberOfExperts):\n",
    "    x,y = phe.generate_paillier_keypair(n_length=128)\n",
    "    dictionaryOfExpertPublicKeys[i] = x\n",
    "    dictionaryOfExpertPrivateKeys[i] = y\n",
    "    \n",
    "\n",
    "for i in range(numberOfCandidates):\n",
    "    x,y = phe.generate_paillier_keypair(n_length=128)\n",
    "    dictionaryOfCandidatesPublicKeys[i]= x\n",
    "    dictionaryOfCandidatesPrivateKeys[i] = y \n",
    "\n",
    "publicKeyEmployer,privateKeyEmployer = phe.generate_paillier_keypair(n_length=128)\n"
   ]
  },
  {
   "cell_type": "code",
   "execution_count": null,
   "metadata": {},
   "outputs": [],
   "source": [
    "#@code to generate rsa public and private keys\n",
    "for i in range(numberOfExperts):\n",
    "    (pubkey, privkey) = rsa.newkeys(512)\n",
    "    dictOfrsaPubKey[i],dictOfrsaPriKey[i] = pubkey, privkey \n"
   ]
  },
  {
   "cell_type": "code",
   "execution_count": null,
   "metadata": {},
   "outputs": [],
   "source": [
    "# function to create digital signature\n",
    "def createDigitalSignature(message,i):\n",
    "    privkey = dictOfrsaPriKey[i]\n",
    "    temp = str(message).encode()\n",
    "    signature = rsa.sign(temp, privkey, 'SHA-1')\n",
    "    return signature"
   ]
  },
  {
   "cell_type": "code",
   "execution_count": null,
   "metadata": {},
   "outputs": [],
   "source": [
    "def generateRandomNumberForEveryExpert():\n",
    "    # global dictionaryOfRandomNumberPerExpert\n",
    "    generatedRandomNumbers = [rd.randint(0,100) for x in range(numberOfExperts)]\n",
    "    # print(generatedRandomNumbers)\n",
    "    return generatedRandomNumbers\n",
    "    # print(dictionaryOfSumGeneratedPerRandomNumber)"
   ]
  },
  {
   "cell_type": "code",
   "execution_count": null,
   "metadata": {},
   "outputs": [],
   "source": [
    "def forwardTheRespectiveRandomNumbers(idR,generatedRandomNumbers):\n",
    "    encryptedRandomNumber = dictionaryOfExpertPublicKeys[idR].raw_encrypt(generatedRandomNumbers[idR])\n",
    "    message = encryptedRandomNumber\n",
    "    return message\n",
    "# ,createDigitalSignature(encryptedRandomNumber,idS)"
   ]
  },
  {
   "cell_type": "code",
   "execution_count": null,
   "metadata": {},
   "outputs": [],
   "source": [
    "def performSMPCBetweenExperts():\n",
    "    #this part of the code simulates the part where expert follow the smpc process\n",
    "    #the random number assgned by all the experts has been mapped for every candidate\n",
    "    \n",
    "    for i in range(numberOfCandidates):\n",
    "        matrixOfForwardedMessages = [[0 for i in range(numberOfExperts)] for j in range(numberOfExperts)]\n",
    "        sumList = []\n",
    "        for j in range(numberOfExperts):\n",
    "            generatedRandomNumbers = generateRandomNumberForEveryExpert()\n",
    "            sumOfTheRandomNumbers = sum(generatedRandomNumbers) \n",
    "            sumList.append(sumOfTheRandomNumbers)\n",
    "\n",
    "            for k in range(numberOfExperts):\n",
    "                if(j != k):\n",
    "                    message = forwardTheRespectiveRandomNumbers(k,generatedRandomNumbers)\n",
    "                    matrixOfForwardedMessages[j][k] = message\n",
    "                else:\n",
    "                    matrixOfForwardedMessages[j][k] = generatedRandomNumbers[j]\n",
    "        dictionaryOfRandomNumberMappedToEveryCandidate[i] = matrixOfForwardedMessages\n",
    "        dictionaryOftheSumOfRandomNumbermappedToEveryCandidate[i] = sumList\n",
    "    print(dictionaryOfRandomNumberMappedToEveryCandidate)\n",
    "    print(dictionaryOftheSumOfRandomNumbermappedToEveryCandidate)\n",
    "    # print(dictionaryOfSumGeneratedPerRandomNumber)\n",
    "    \n",
    "\n",
    "    "
   ]
  },
  {
   "cell_type": "code",
   "execution_count": null,
   "metadata": {},
   "outputs": [],
   "source": [
    "def generateHiddenScoreFrameWork4():\n",
    "    global marksToCandidates\n",
    "    for i in range(numberOfCandidates):\n",
    "        for j in range(numberOfExperts):\n",
    "            mark = rd.randint(0,100)\n",
    "            hiddenScore = mark + dictionaryOftheSumOfRandomNumbermappedToEveryCandidate[i][j]\n",
    "            sum  = 0\n",
    "            for k in range(numberOfExperts):\n",
    "                if(j != k):\n",
    "                    encryptedRandomNumber = dictionaryOfRandomNumberMappedToEveryCandidate[i][k][j]\n",
    "                    # print(encryptedRandomNumber)\n",
    "                    sum  = sum + dictionaryOfExpertPrivateKeys[j].raw_decrypt(encryptedRandomNumber)\n",
    "                else: \n",
    "                    sum = sum + dictionaryOfRandomNumberMappedToEveryCandidate[i][j][j]\n",
    "            hiddenScore  = hiddenScore -sum\n",
    "            # print(hiddenScore)\n",
    "            marksToCandidates[j][i] = publicKeyEmployer.raw_encrypt(hiddenScore)"
   ]
  },
  {
   "cell_type": "code",
   "execution_count": null,
   "metadata": {},
   "outputs": [],
   "source": [
    "def employerFindsTheBestCandidate(array):\n",
    "    marksOfCandidates = [privateKeyEmployer.raw_decrypt(x) for x in array]\n",
    "    print(marksOfCandidates)\n",
    "    print(marksOfCandidates.index(max(marksOfCandidates)))\n"
   ]
  },
  {
   "cell_type": "code",
   "execution_count": null,
   "metadata": {},
   "outputs": [],
   "source": [
    "def candidateManagerFrameWork4BestCandidate():\n",
    "    array = []\n",
    "    for i in range(numberOfCandidates):\n",
    "        sum = 1\n",
    "        for j in range(numberOfExperts):\n",
    "            cummulativeScore = marksToCandidates[j][i]\n",
    "            sum  = sum * cummulativeScore\n",
    "        array.append(sum)\n",
    "    employerFindsTheBestCandidate(array)\n"
   ]
  },
  {
   "cell_type": "code",
   "execution_count": null,
   "metadata": {},
   "outputs": [],
   "source": [
    "def framework4():\n",
    "    performSMPCBetweenExperts()\n",
    "    generateHiddenScoreFrameWork4()\n",
    "    candidateManagerFrameWork4BestCandidate()\n"
   ]
  },
  {
   "cell_type": "code",
   "execution_count": null,
   "metadata": {},
   "outputs": [],
   "source": [
    "framework4()"
   ]
  }
 ],
 "metadata": {
  "kernelspec": {
   "display_name": "Python 3",
   "language": "python",
   "name": "python3"
  },
  "language_info": {
   "codemirror_mode": {
    "name": "ipython",
    "version": 3
   },
   "file_extension": ".py",
   "mimetype": "text/x-python",
   "name": "python",
   "nbconvert_exporter": "python",
   "pygments_lexer": "ipython3",
   "version": "3.10.6"
  },
  "orig_nbformat": 4
 },
 "nbformat": 4,
 "nbformat_minor": 2
}
